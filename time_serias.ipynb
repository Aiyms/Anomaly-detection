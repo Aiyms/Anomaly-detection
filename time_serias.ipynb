{
 "cells": [
  {
   "cell_type": "markdown",
   "metadata": {},
   "source": [
    "# Importing data"
   ]
  },
  {
   "cell_type": "code",
   "execution_count": 5,
   "metadata": {},
   "outputs": [],
   "source": [
    "import pandas as pd\n",
    "#d28_cancel = pd.read_excel('2020_12_28_12_34_24_Количество отменных покупок через пос-терминалы(24-hours).xlsx')\n",
    "#d28 = pd.read_excel('2020_12_28_12_34_24_Количество отменных покупок через пос-терминалы(24-hours).xlsx')"
   ]
  },
  {
   "cell_type": "code",
   "execution_count": 6,
   "metadata": {},
   "outputs": [],
   "source": [
    "d29_cancel = pd.read_excel('2020_12_29_08_30_00_Количество отменных покупок через пос-терминалы(24-hours).xlsx')\n",
    "d29 = pd.read_excel('2020_12_29_08_31_23_Количество покупок через пос-терминалы(24-hours).xlsx')"
   ]
  },
  {
   "cell_type": "code",
   "execution_count": 114,
   "metadata": {},
   "outputs": [
    {
     "data": {
      "text/html": [
       "<div>\n",
       "<style scoped>\n",
       "    .dataframe tbody tr th:only-of-type {\n",
       "        vertical-align: middle;\n",
       "    }\n",
       "\n",
       "    .dataframe tbody tr th {\n",
       "        vertical-align: top;\n",
       "    }\n",
       "\n",
       "    .dataframe thead th {\n",
       "        text-align: right;\n",
       "    }\n",
       "</style>\n",
       "<table border=\"1\" class=\"dataframe\">\n",
       "  <thead>\n",
       "    <tr style=\"text-align: right;\">\n",
       "      <th></th>\n",
       "      <th>Custom Table for Datasource 1 from Last 24 Hours</th>\n",
       "      <th>Unnamed: 1</th>\n",
       "    </tr>\n",
       "  </thead>\n",
       "  <tbody>\n",
       "    <tr>\n",
       "      <th>0</th>\n",
       "      <td>NaN</td>\n",
       "      <td>NaN</td>\n",
       "    </tr>\n",
       "    <tr>\n",
       "      <th>1</th>\n",
       "      <td>Timestamp</td>\n",
       "      <td>Average Statistic Data</td>\n",
       "    </tr>\n",
       "    <tr>\n",
       "      <th>2</th>\n",
       "      <td>2020-12-28 08:31:50.540000</td>\n",
       "      <td>308</td>\n",
       "    </tr>\n",
       "    <tr>\n",
       "      <th>3</th>\n",
       "      <td>2020-12-28 08:33:50.543000</td>\n",
       "      <td>327</td>\n",
       "    </tr>\n",
       "    <tr>\n",
       "      <th>4</th>\n",
       "      <td>2020-12-28 08:35:50.543000</td>\n",
       "      <td>318</td>\n",
       "    </tr>\n",
       "    <tr>\n",
       "      <th>...</th>\n",
       "      <td>...</td>\n",
       "      <td>...</td>\n",
       "    </tr>\n",
       "    <tr>\n",
       "      <th>895</th>\n",
       "      <td>2020-12-29 08:24:18.327000</td>\n",
       "      <td>173</td>\n",
       "    </tr>\n",
       "    <tr>\n",
       "      <th>896</th>\n",
       "      <td>2020-12-29 08:24:18.457000</td>\n",
       "      <td>158</td>\n",
       "    </tr>\n",
       "    <tr>\n",
       "      <th>897</th>\n",
       "      <td>2020-12-29 08:26:21.153000</td>\n",
       "      <td>280</td>\n",
       "    </tr>\n",
       "    <tr>\n",
       "      <th>898</th>\n",
       "      <td>2020-12-29 08:28:21.153000</td>\n",
       "      <td>304</td>\n",
       "    </tr>\n",
       "    <tr>\n",
       "      <th>899</th>\n",
       "      <td>2020-12-29 08:30:21.153000</td>\n",
       "      <td>313</td>\n",
       "    </tr>\n",
       "  </tbody>\n",
       "</table>\n",
       "<p>900 rows × 2 columns</p>\n",
       "</div>"
      ],
      "text/plain": [
       "    Custom Table for Datasource 1 from Last 24 Hours              Unnamed: 1\n",
       "0                                                NaN                     NaN\n",
       "1                                          Timestamp  Average Statistic Data\n",
       "2                         2020-12-28 08:31:50.540000                     308\n",
       "3                         2020-12-28 08:33:50.543000                     327\n",
       "4                         2020-12-28 08:35:50.543000                     318\n",
       "..                                               ...                     ...\n",
       "895                       2020-12-29 08:24:18.327000                     173\n",
       "896                       2020-12-29 08:24:18.457000                     158\n",
       "897                       2020-12-29 08:26:21.153000                     280\n",
       "898                       2020-12-29 08:28:21.153000                     304\n",
       "899                       2020-12-29 08:30:21.153000                     313\n",
       "\n",
       "[900 rows x 2 columns]"
      ]
     },
     "execution_count": 114,
     "metadata": {},
     "output_type": "execute_result"
    }
   ],
   "source": [
    "d29"
   ]
  },
  {
   "cell_type": "code",
   "execution_count": 47,
   "metadata": {},
   "outputs": [],
   "source": [
    "d30_cancel = pd.read_excel('2020_12_30_08_30_00_Количество отменных покупок через пос-терминалы(24-hours).xlsx')\n",
    "d30 = pd.read_excel('2020_12_30_08_31_24_Количество покупок через пос-терминалы(24-hours).xlsx')"
   ]
  },
  {
   "cell_type": "code",
   "execution_count": 8,
   "metadata": {},
   "outputs": [],
   "source": [
    "d31_cancel = pd.read_excel('2020_12_31_08_30_00_Количество отменных покупок через пос-терминалы(24-hours).xlsx')\n",
    "d31 = pd.read_excel('2020_12_31_08_32_57_Количество покупок через пос-терминалы(24-hours).xlsx')"
   ]
  },
  {
   "cell_type": "code",
   "execution_count": 9,
   "metadata": {},
   "outputs": [],
   "source": [
    "d01_cancel = pd.read_excel('2021_01_01_08_30_00_Количество отменных покупок через пос-терминалы(24-hours).xlsx')\n",
    "d01 = pd.read_excel('2021_01_01_08_31_19_Количество покупок через пос-терминалы(24-hours).xlsx')"
   ]
  },
  {
   "cell_type": "code",
   "execution_count": 10,
   "metadata": {},
   "outputs": [],
   "source": [
    "d02_cancel = pd.read_excel('2021_01_02_08_30_00_Количество отменных покупок через пос-терминалы(24-hours).xlsx')\n",
    "d02 = pd.read_excel('2021_01_02_08_31_55_Количество покупок через пос-терминалы(24-hours).xlsx')"
   ]
  },
  {
   "cell_type": "code",
   "execution_count": 11,
   "metadata": {},
   "outputs": [],
   "source": [
    "d03_cancel = pd.read_excel('2021_01_03_08_30_00_Количество отменных покупок через пос-терминалы(24-hours).xlsx')\n",
    "d03 = pd.read_excel('2021_01_03_08_31_22_Количество покупок через пос-терминалы(24-hours).xlsx')"
   ]
  },
  {
   "cell_type": "code",
   "execution_count": 12,
   "metadata": {},
   "outputs": [],
   "source": [
    "d04_cancel = pd.read_excel('2021_01_04_08_30_00_Количество отменных покупок через пос-терминалы(24-hours).xlsx')\n",
    "d04 = pd.read_excel('2021_01_04_08_31_14_Количество покупок через пос-терминалы(24-hours).xlsx')"
   ]
  },
  {
   "cell_type": "markdown",
   "metadata": {},
   "source": [
    "# Data preprocessing"
   ]
  },
  {
   "cell_type": "code",
   "execution_count": 45,
   "metadata": {},
   "outputs": [],
   "source": [
    "def df_processing(df):\n",
    "    df = pd.DataFrame(data = df)\n",
    "    df = df.dropna()\n",
    "    headers = df.iloc[0]\n",
    "    new_df  = pd.DataFrame(df.values[1:], columns=headers)\n",
    "    return new_df"
   ]
  },
  {
   "cell_type": "code",
   "execution_count": 55,
   "metadata": {},
   "outputs": [],
   "source": [
    "d3 = df_processing(d30)\n",
    "#df3 = d3.reset_index(index = Timestamp)"
   ]
  },
  {
   "cell_type": "code",
   "execution_count": 65,
   "metadata": {},
   "outputs": [
    {
     "data": {
      "text/html": [
       "<div>\n",
       "<style scoped>\n",
       "    .dataframe tbody tr th:only-of-type {\n",
       "        vertical-align: middle;\n",
       "    }\n",
       "\n",
       "    .dataframe tbody tr th {\n",
       "        vertical-align: top;\n",
       "    }\n",
       "\n",
       "    .dataframe thead th {\n",
       "        text-align: right;\n",
       "    }\n",
       "</style>\n",
       "<table border=\"1\" class=\"dataframe\">\n",
       "  <thead>\n",
       "    <tr style=\"text-align: right;\">\n",
       "      <th>1</th>\n",
       "      <th>Timestamp</th>\n",
       "      <th>Average Statistic Data</th>\n",
       "    </tr>\n",
       "  </thead>\n",
       "  <tbody>\n",
       "    <tr>\n",
       "      <th>0</th>\n",
       "      <td>2020-12-29 08:32:21.153</td>\n",
       "      <td>177</td>\n",
       "    </tr>\n",
       "    <tr>\n",
       "      <th>1</th>\n",
       "      <td>2020-12-29 08:32:21.600</td>\n",
       "      <td>162</td>\n",
       "    </tr>\n",
       "    <tr>\n",
       "      <th>2</th>\n",
       "      <td>2020-12-29 08:34:21.153</td>\n",
       "      <td>192</td>\n",
       "    </tr>\n",
       "    <tr>\n",
       "      <th>3</th>\n",
       "      <td>2020-12-29 08:34:21.600</td>\n",
       "      <td>166</td>\n",
       "    </tr>\n",
       "    <tr>\n",
       "      <th>4</th>\n",
       "      <td>2020-12-29 08:36:21.167</td>\n",
       "      <td>187</td>\n",
       "    </tr>\n",
       "    <tr>\n",
       "      <th>...</th>\n",
       "      <td>...</td>\n",
       "      <td>...</td>\n",
       "    </tr>\n",
       "    <tr>\n",
       "      <th>995</th>\n",
       "      <td>2020-12-30 08:25:43.603</td>\n",
       "      <td>156</td>\n",
       "    </tr>\n",
       "    <tr>\n",
       "      <th>996</th>\n",
       "      <td>2020-12-30 08:27:42.597</td>\n",
       "      <td>158</td>\n",
       "    </tr>\n",
       "    <tr>\n",
       "      <th>997</th>\n",
       "      <td>2020-12-30 08:27:43.607</td>\n",
       "      <td>168</td>\n",
       "    </tr>\n",
       "    <tr>\n",
       "      <th>998</th>\n",
       "      <td>2020-12-30 08:29:42.597</td>\n",
       "      <td>129</td>\n",
       "    </tr>\n",
       "    <tr>\n",
       "      <th>999</th>\n",
       "      <td>2020-12-30 08:29:43.613</td>\n",
       "      <td>179</td>\n",
       "    </tr>\n",
       "  </tbody>\n",
       "</table>\n",
       "<p>1000 rows × 2 columns</p>\n",
       "</div>"
      ],
      "text/plain": [
       "1                 Timestamp Average Statistic Data\n",
       "0   2020-12-29 08:32:21.153                    177\n",
       "1   2020-12-29 08:32:21.600                    162\n",
       "2   2020-12-29 08:34:21.153                    192\n",
       "3   2020-12-29 08:34:21.600                    166\n",
       "4   2020-12-29 08:36:21.167                    187\n",
       "..                      ...                    ...\n",
       "995 2020-12-30 08:25:43.603                    156\n",
       "996 2020-12-30 08:27:42.597                    158\n",
       "997 2020-12-30 08:27:43.607                    168\n",
       "998 2020-12-30 08:29:42.597                    129\n",
       "999 2020-12-30 08:29:43.613                    179\n",
       "\n",
       "[1000 rows x 2 columns]"
      ]
     },
     "execution_count": 65,
     "metadata": {},
     "output_type": "execute_result"
    }
   ],
   "source": [
    "d3"
   ]
  },
  {
   "cell_type": "code",
   "execution_count": 103,
   "metadata": {},
   "outputs": [
    {
     "data": {
      "text/plain": [
       "0     2020-12-29 08:32:21.153\n",
       "1     2020-12-29 08:32:21.600\n",
       "2     2020-12-29 08:34:21.153\n",
       "3     2020-12-29 08:34:21.600\n",
       "4     2020-12-29 08:36:21.167\n",
       "                ...          \n",
       "995   2020-12-30 08:25:43.603\n",
       "996   2020-12-30 08:27:42.597\n",
       "997   2020-12-30 08:27:43.607\n",
       "998   2020-12-30 08:29:42.597\n",
       "999   2020-12-30 08:29:43.613\n",
       "Name: Timestamp, Length: 1000, dtype: datetime64[ns]"
      ]
     },
     "execution_count": 103,
     "metadata": {},
     "output_type": "execute_result"
    }
   ],
   "source": [
    "d3.iloc[0:,0]"
   ]
  },
  {
   "cell_type": "code",
   "execution_count": 106,
   "metadata": {},
   "outputs": [
    {
     "data": {
      "text/plain": [
       "1\n",
       "Timestamp                 datetime64[ns]\n",
       "Average Statistic Data            object\n",
       "dtype: object"
      ]
     },
     "execution_count": 106,
     "metadata": {},
     "output_type": "execute_result"
    }
   ],
   "source": [
    "d3.dtypes"
   ]
  },
  {
   "cell_type": "code",
   "execution_count": 108,
   "metadata": {},
   "outputs": [
    {
     "data": {
      "text/html": [
       "<div>\n",
       "<style scoped>\n",
       "    .dataframe tbody tr th:only-of-type {\n",
       "        vertical-align: middle;\n",
       "    }\n",
       "\n",
       "    .dataframe tbody tr th {\n",
       "        vertical-align: top;\n",
       "    }\n",
       "\n",
       "    .dataframe thead th {\n",
       "        text-align: right;\n",
       "    }\n",
       "</style>\n",
       "<table border=\"1\" class=\"dataframe\">\n",
       "  <thead>\n",
       "    <tr style=\"text-align: right;\">\n",
       "      <th>1</th>\n",
       "      <th>Average Statistic Data</th>\n",
       "    </tr>\n",
       "    <tr>\n",
       "      <th>Timestamp</th>\n",
       "      <th></th>\n",
       "    </tr>\n",
       "  </thead>\n",
       "  <tbody>\n",
       "    <tr>\n",
       "      <th>2020-12-29 08:32:21.153</th>\n",
       "      <td>177</td>\n",
       "    </tr>\n",
       "    <tr>\n",
       "      <th>2020-12-29 08:32:21.600</th>\n",
       "      <td>162</td>\n",
       "    </tr>\n",
       "    <tr>\n",
       "      <th>2020-12-29 08:34:21.153</th>\n",
       "      <td>192</td>\n",
       "    </tr>\n",
       "  </tbody>\n",
       "</table>\n",
       "</div>"
      ],
      "text/plain": [
       "1                       Average Statistic Data\n",
       "Timestamp                                     \n",
       "2020-12-29 08:32:21.153                    177\n",
       "2020-12-29 08:32:21.600                    162\n",
       "2020-12-29 08:34:21.153                    192"
      ]
     },
     "execution_count": 108,
     "metadata": {},
     "output_type": "execute_result"
    }
   ],
   "source": [
    "d = d3.set_index('Timestamp')\n",
    "d.head(3)"
   ]
  },
  {
   "cell_type": "code",
   "execution_count": 110,
   "metadata": {},
   "outputs": [
    {
     "data": {
      "text/plain": [
       "DatetimeIndex(['2020-12-29 08:32:21.153000', '2020-12-29 08:32:21.600000',\n",
       "               '2020-12-29 08:34:21.153000', '2020-12-29 08:34:21.600000',\n",
       "               '2020-12-29 08:36:21.167000', '2020-12-29 08:36:21.603000',\n",
       "               '2020-12-29 08:38:21.167000', '2020-12-29 08:38:21.603000',\n",
       "               '2020-12-29 08:40:21.167000', '2020-12-29 08:40:21.603000',\n",
       "               ...\n",
       "               '2020-12-30 08:21:41.930000', '2020-12-30 08:21:43.477000',\n",
       "               '2020-12-30 08:23:41.933000', '2020-12-30 08:23:43.487000',\n",
       "               '2020-12-30 08:25:42.593000', '2020-12-30 08:25:43.603000',\n",
       "               '2020-12-30 08:27:42.597000', '2020-12-30 08:27:43.607000',\n",
       "               '2020-12-30 08:29:42.597000', '2020-12-30 08:29:43.613000'],\n",
       "              dtype='datetime64[ns]', name='Timestamp', length=1000, freq=None)"
      ]
     },
     "execution_count": 110,
     "metadata": {},
     "output_type": "execute_result"
    }
   ],
   "source": [
    "d.index"
   ]
  },
  {
   "cell_type": "markdown",
   "metadata": {},
   "source": [
    "# Visualization"
   ]
  },
  {
   "cell_type": "code",
   "execution_count": 112,
   "metadata": {},
   "outputs": [
    {
     "data": {
      "image/png": "[encoded data removed]",
      "text/plain": [
       "<Figure size 432x288 with 1 Axes>"
      ]
     },
     "metadata": {
      "needs_background": "light"
     },
     "output_type": "display_data"
    }
   ],
   "source": [
    "from matplotlib import pyplot\n",
    "d.plot()\n",
    "pyplot.show()"
   ]
  },
  {
   "cell_type": "code",
   "execution_count": 113,
   "metadata": {},
   "outputs": [
    {
     "data": {
      "text/html": [
       "<div>\n",
       "<style scoped>\n",
       "    .dataframe tbody tr th:only-of-type {\n",
       "        vertical-align: middle;\n",
       "    }\n",
       "\n",
       "    .dataframe tbody tr th {\n",
       "        vertical-align: top;\n",
       "    }\n",
       "\n",
       "    .dataframe thead th {\n",
       "        text-align: right;\n",
       "    }\n",
       "</style>\n",
       "<table border=\"1\" class=\"dataframe\">\n",
       "  <thead>\n",
       "    <tr style=\"text-align: right;\">\n",
       "      <th>1</th>\n",
       "      <th>Average Statistic Data</th>\n",
       "    </tr>\n",
       "    <tr>\n",
       "      <th>Timestamp</th>\n",
       "      <th></th>\n",
       "    </tr>\n",
       "  </thead>\n",
       "  <tbody>\n",
       "    <tr>\n",
       "      <th>2020-12-29 08:32:21.153</th>\n",
       "      <td>177</td>\n",
       "    </tr>\n",
       "    <tr>\n",
       "      <th>2020-12-29 08:32:21.600</th>\n",
       "      <td>162</td>\n",
       "    </tr>\n",
       "    <tr>\n",
       "      <th>2020-12-29 08:34:21.153</th>\n",
       "      <td>192</td>\n",
       "    </tr>\n",
       "    <tr>\n",
       "      <th>2020-12-29 08:34:21.600</th>\n",
       "      <td>166</td>\n",
       "    </tr>\n",
       "    <tr>\n",
       "      <th>2020-12-29 08:36:21.167</th>\n",
       "      <td>187</td>\n",
       "    </tr>\n",
       "    <tr>\n",
       "      <th>...</th>\n",
       "      <td>...</td>\n",
       "    </tr>\n",
       "    <tr>\n",
       "      <th>2020-12-30 08:25:43.603</th>\n",
       "      <td>156</td>\n",
       "    </tr>\n",
       "    <tr>\n",
       "      <th>2020-12-30 08:27:42.597</th>\n",
       "      <td>158</td>\n",
       "    </tr>\n",
       "    <tr>\n",
       "      <th>2020-12-30 08:27:43.607</th>\n",
       "      <td>168</td>\n",
       "    </tr>\n",
       "    <tr>\n",
       "      <th>2020-12-30 08:29:42.597</th>\n",
       "      <td>129</td>\n",
       "    </tr>\n",
       "    <tr>\n",
       "      <th>2020-12-30 08:29:43.613</th>\n",
       "      <td>179</td>\n",
       "    </tr>\n",
       "  </tbody>\n",
       "</table>\n",
       "<p>1000 rows × 1 columns</p>\n",
       "</div>"
      ],
      "text/plain": [
       "1                       Average Statistic Data\n",
       "Timestamp                                     \n",
       "2020-12-29 08:32:21.153                    177\n",
       "2020-12-29 08:32:21.600                    162\n",
       "2020-12-29 08:34:21.153                    192\n",
       "2020-12-29 08:34:21.600                    166\n",
       "2020-12-29 08:36:21.167                    187\n",
       "...                                        ...\n",
       "2020-12-30 08:25:43.603                    156\n",
       "2020-12-30 08:27:42.597                    158\n",
       "2020-12-30 08:27:43.607                    168\n",
       "2020-12-30 08:29:42.597                    129\n",
       "2020-12-30 08:29:43.613                    179\n",
       "\n",
       "[1000 rows x 1 columns]"
      ]
     },
     "execution_count": 113,
     "metadata": {},
     "output_type": "execute_result"
    }
   ],
   "source": [
    "d"
   ]
  },
  {
   "cell_type": "code",
   "execution_count": 76,
   "metadata": {},
   "outputs": [
    {
     "data": {
      "text/plain": [
       "0     2020-12-29 08:32:21.153\n",
       "1     2020-12-29 08:32:21.600\n",
       "2     2020-12-29 08:34:21.153\n",
       "3     2020-12-29 08:34:21.600\n",
       "4     2020-12-29 08:36:21.167\n",
       "                ...          \n",
       "995   2020-12-30 08:25:43.603\n",
       "996   2020-12-30 08:27:42.597\n",
       "997   2020-12-30 08:27:43.607\n",
       "998   2020-12-30 08:29:42.597\n",
       "999   2020-12-30 08:29:43.613\n",
       "Name: Timestamp, Length: 1000, dtype: datetime64[ns]"
      ]
     },
     "execution_count": 76,
     "metadata": {},
     "output_type": "execute_result"
    }
   ],
   "source": [
    "d3.Timestamp"
   ]
  },
  {
   "cell_type": "code",
   "execution_count": null,
   "metadata": {},
   "outputs": [],
   "source": []
  },
  {
   "cell_type": "markdown",
   "metadata": {},
   "source": [
    "# Library for smoothing"
   ]
  },
  {
   "cell_type": "code",
   "execution_count": 68,
   "metadata": {},
   "outputs": [
    {
     "name": "stdout",
     "output_type": "stream",
     "text": [
      "Collecting tsmoothie\n",
      "  Downloading https://files.pythonhosted.org/packages/23/7d/6cd20749d5811e37fa14adca30bba1b7fc18300f95a37a68535272fd285f/tsmoothie-1.0.1-py3-none-any.whl\n",
      "Requirement already satisfied: scipy in /opt/anaconda3/lib/python3.7/site-packages (from tsmoothie) (1.3.1)\n",
      "Requirement already satisfied: numpy in /opt/anaconda3/lib/python3.7/site-packages (from tsmoothie) (1.17.2)\n",
      "Collecting simdkalman (from tsmoothie)\n",
      "  Downloading https://files.pythonhosted.org/packages/d9/8a/6a4508231837fa2e5af4c6f0d6fa3d987a27f7aeb287b4e990c29b4e1815/simdkalman-1.0.1-py2.py3-none-any.whl\n",
      "Installing collected packages: simdkalman, tsmoothie\n",
      "Successfully installed simdkalman-1.0.1 tsmoothie-1.0.1\n",
      "Note: you may need to restart the kernel to use updated packages.\n"
     ]
    }
   ],
   "source": [
    "pip install tsmoothie # https://github.com/cerlymarco/tsmoothie"
   ]
  },
  {
   "cell_type": "code",
   "execution_count": 69,
   "metadata": {},
   "outputs": [],
   "source": [
    "import numpy as np\n",
    "import matplotlib.pyplot as plt\n",
    "from tsmoothie.utils_func import sim_randomwalk\n",
    "from tsmoothie.smoother import LowessSmoother"
   ]
  },
  {
   "cell_type": "code",
   "execution_count": null,
   "metadata": {},
   "outputs": [],
   "source": [
    "smoother = LowessSmoother(smooth_fraction=0.1, iterations=1)\n",
    "smoother.smooth(data)\n",
    "\n",
    "# generate intervals\n",
    "low, up = smoother.get_intervals('prediction_interval')\n",
    "\n",
    "# plot the smoothed timeseries with intervals\n",
    "plt.figure(figsize=(18,5))\n",
    "\n",
    "for i in range(3):\n",
    "    \n",
    "    plt.subplot(1,3,i+1)\n",
    "    plt.plot(smoother.smooth_data[i], linewidth=3, color='blue')\n",
    "    plt.plot(smoother.data[i], '.k')\n",
    "    plt.title(f\"timeseries {i+1}\"); plt.xlabel('time')\n",
    "\n",
    "    plt.fill_between(range(len(smoother.data[i])), low[i], up[i], alpha=0.3)"
   ]
  }
 ],
 "metadata": {
  "kernelspec": {
   "display_name": "Python 3",
   "language": "python",
   "name": "python3"
  },
  "language_info": {
   "codemirror_mode": {
    "name": "ipython",
    "version": 3
   },
   "file_extension": ".py",
   "mimetype": "text/x-python",
   "name": "python",
   "nbconvert_exporter": "python",
   "pygments_lexer": "ipython3",
   "version": "3.7.4"
  }
 },
 "nbformat": 4,
 "nbformat_minor": 2
}
